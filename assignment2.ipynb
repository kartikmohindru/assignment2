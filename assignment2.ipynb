{
 "cells": [
  {
   "cell_type": "markdown",
   "metadata": {},
   "source": [
    "Task 1:\n",
    "1.1\n",
    "Write a Python Program to implement your own myreduce() function which works exactly like\n",
    "Python's built-in function reduce()"
   ]
  },
  {
   "cell_type": "code",
   "execution_count": 3,
   "metadata": {},
   "outputs": [
    {
     "name": "stdout",
     "output_type": "stream",
     "text": [
      "10\n",
      "4\n"
     ]
    }
   ],
   "source": [
    "def func(obj1,obj2):\n",
    "    return obj1+obj2\n",
    "def myreduce(func, obj):\n",
    "    obj=list(obj)\n",
    "    l=len(obj)\n",
    "    #print(type(func). __name__)\n",
    "    for i in range(l):\n",
    "        if i == 0:\n",
    "            q=func(obj[0],obj[1])\n",
    "        elif(i>=1)and(i<l-1):\n",
    "            q = func(q,obj[i+1])\n",
    "    return q\n",
    "\n",
    "y=myreduce(func, {1,2,3,4})\n",
    "print(y)\n",
    "x=myreduce(lambda a,b: a if (a > b) else b, {1,2,3,4})\n",
    "print(x)"
   ]
  },
  {
   "cell_type": "markdown",
   "metadata": {},
   "source": [
    "1.2\n",
    "Write a Python program to implement your own myfilter() function which works exactly like\n",
    "Python's built-in function filter()"
   ]
  },
  {
   "cell_type": "code",
   "execution_count": 5,
   "metadata": {},
   "outputs": [
    {
     "name": "stdout",
     "output_type": "stream",
     "text": [
      "[2, 4]\n"
     ]
    },
    {
     "data": {
      "text/plain": [
       "['mumbai']"
      ]
     },
     "execution_count": 5,
     "metadata": {},
     "output_type": "execute_result"
    }
   ],
   "source": [
    "def func(obj):\n",
    "    if obj%2==0:\n",
    "        return 1\n",
    "def myfilter(func, obj):\n",
    "    q=[]\n",
    "    for i in obj:\n",
    "        if func(i):\n",
    "            q.append(i)\n",
    "    return q\n",
    "\n",
    "y=list(myfilter(func, {1,2,3,4}))\n",
    "print(y)\n",
    "\n",
    "l=\"welcome to mumbai\"\n",
    "l=l.split()\n",
    "list(myfilter(lambda x: x=='mumbai',l))"
   ]
  },
  {
   "cell_type": "markdown",
   "metadata": {},
   "source": [
    "2.\n",
    "Implement List comprehensions to produce the following lists.\n",
    "Write List comprehensions to produce the following Lists\n",
    "['A', 'C', 'A', 'D', 'G', 'I', ’L’, ‘ D’]\n",
    "['x', 'xx', 'xxx', 'xxxx', 'y', 'yy', 'yyy', 'yyyy', 'z', 'zz', 'zzz', 'zzzz']\n",
    "['x', 'y', 'z', 'xx', 'yy', 'zz', 'xx', 'yy', 'zz', 'xxxx', 'yyyy', 'zzzz']\n",
    "[[2], [3], [4], [3], [4], [5], [4], [5], [6]]\n",
    "[[2, 3, 4, 5], [3, 4, 5, 6], [4, 5, 6, 7], [5, 6, 7, 8]]\n",
    "[(1, 1), (2, 1), (3, 1), (1, 2), (2, 2), (3, 2), (1, 3), (2, 3), (3, 3)]"
   ]
  },
  {
   "cell_type": "code",
   "execution_count": 7,
   "metadata": {},
   "outputs": [
    {
     "data": {
      "text/plain": [
       "['A', 'C', 'A', 'D', 'G', 'I', 'L', 'D']"
      ]
     },
     "execution_count": 7,
     "metadata": {},
     "output_type": "execute_result"
    }
   ],
   "source": [
    "str = 'ACADGILD'\n",
    "[n for n in str]\n"
   ]
  },
  {
   "cell_type": "code",
   "execution_count": 8,
   "metadata": {},
   "outputs": [
    {
     "data": {
      "text/plain": [
       "['x', 'xx', 'xxx', 'xxxx', 'y', 'yy', 'yyy', 'yyyy', 'z', 'zz', 'zzz', 'zzzz']"
      ]
     },
     "execution_count": 8,
     "metadata": {},
     "output_type": "execute_result"
    }
   ],
   "source": [
    "[a*n for a in ['x','y','z'] for n in range(1,5)]\n"
   ]
  },
  {
   "cell_type": "code",
   "execution_count": 9,
   "metadata": {},
   "outputs": [
    {
     "data": {
      "text/plain": [
       "['x', 'y', 'z', 'xx', 'yy', 'zz', 'xxx', 'yyy', 'zzz', 'xxxx', 'yyyy', 'zzzz']"
      ]
     },
     "execution_count": 9,
     "metadata": {},
     "output_type": "execute_result"
    }
   ],
   "source": [
    "[a*n  for n in range(1,5) for a in ['x','y','z']]\n"
   ]
  },
  {
   "cell_type": "code",
   "execution_count": 10,
   "metadata": {},
   "outputs": [
    {
     "data": {
      "text/plain": [
       "[[2], [3], [4], [3], [4], [5], [4], [5], [6]]"
      ]
     },
     "execution_count": 10,
     "metadata": {},
     "output_type": "execute_result"
    }
   ],
   "source": [
    "[[a+n] for n in range(2,5) for a in range(0,3)]\n"
   ]
  },
  {
   "cell_type": "code",
   "execution_count": 11,
   "metadata": {},
   "outputs": [
    {
     "data": {
      "text/plain": [
       "[[2, 3, 4, 5], [3, 4, 5, 6], [4, 5, 6, 7], [5, 6, 7, 8]]"
      ]
     },
     "execution_count": 11,
     "metadata": {},
     "output_type": "execute_result"
    }
   ],
   "source": [
    "[[a,a+n,a+n+1,a+n+2] for a in range(2,6) for n in range(1,2) ]\n"
   ]
  },
  {
   "cell_type": "code",
   "execution_count": 12,
   "metadata": {},
   "outputs": [
    {
     "data": {
      "text/plain": [
       "[(1, 1), (2, 1), (3, 1), (1, 2), (2, 2), (3, 2), (1, 3), (2, 3), (3, 3)]"
      ]
     },
     "execution_count": 12,
     "metadata": {},
     "output_type": "execute_result"
    }
   ],
   "source": [
    "[(n,a) for a in range(1,4) for n in range(1,4) ]"
   ]
  },
  {
   "cell_type": "markdown",
   "metadata": {},
   "source": [
    "1.1\n",
    "Write a Python Program(with class concepts) to find the area of the triangle using the below\n",
    "formula.\n",
    "area = (s*(s-a)*(s-b)*(s-c)) ** 0.5\n",
    "Function to take the length of the sides of triangle from user should be defined in the parent\n",
    "class and function to calculate the area should be defined in subclass."
   ]
  },
  {
   "cell_type": "code",
   "execution_count": 1,
   "metadata": {},
   "outputs": [
    {
     "name": "stdout",
     "output_type": "stream",
     "text": [
      "in masin func\n",
      "enter side 1 :3\n",
      "enter side 2 :4\n",
      "enter side 3 :5\n",
      "[3.0, 4.0, 5.0]\n",
      "6.0\n",
      "6.0\n"
     ]
    }
   ],
   "source": [
    "class triangle:\n",
    "    def sides_input(self):\n",
    "        print(\"in masin func\")\n",
    "        self.sides=[]\n",
    "        for i in range(3):\n",
    "            self.sides.append(float(input('enter side '+ str(i+1)+ ' :')) )\n",
    "class area(triangle):\n",
    "    def area(self):\n",
    "        print(self.sides)\n",
    "        d,e,f=self.sides\n",
    "        s=(d+e+f)/2\n",
    "        print(s)\n",
    "        ar= (s*(s-d)*(s-e)*(s-f))**0.5\n",
    "        print(ar)\n",
    "        \n",
    "\n",
    "obj1=area()\n",
    "obj1.sides_input()\n",
    "obj1.area()"
   ]
  },
  {
   "cell_type": "markdown",
   "metadata": {},
   "source": [
    "1.2\n",
    "Write a function filter_long_words() that takes a list of words and an integer n and returns the list\n",
    "of words that are longer than n."
   ]
  },
  {
   "cell_type": "code",
   "execution_count": 2,
   "metadata": {},
   "outputs": [
    {
     "name": "stdout",
     "output_type": "stream",
     "text": [
      "enter word 'hi'\n",
      "want to enter more y/n? 'y'\n",
      "enter word 'hello'\n",
      "want to enter more y/n? 'y'\n",
      "enter word 'listen'\n",
      "want to enter more y/n? 'n'\n",
      "enter benchmark4\n",
      "['hello', 'listen']\n"
     ]
    }
   ],
   "source": [
    "def filter_long_words(words,benchmark):\n",
    "    word=[]\n",
    "    for i in range(len(words)):\n",
    "        if len(words[i])>benchmark:\n",
    "            word.append(words[i]) \n",
    "    return word\n",
    "        \n",
    "word=[]\n",
    "i='y'\n",
    "while (i.lower()=='y'):\n",
    "    word.append(input('enter word '))\n",
    "    i=input('want to enter more y/n? ')\n",
    "benchmark=input('enter benchmark')\n",
    "word=filter_long_words(word,benchmark)\n",
    "print(word)"
   ]
  },
  {
   "cell_type": "markdown",
   "metadata": {},
   "source": [
    "2.1\n",
    "Write a Python program using function concept that maps list of words into a list of integers\n",
    "representing the lengths of the corresponding words .\n",
    "Hint: If a list [ ab,cde,erty] is passed on to the python function output should come as [2,3,4]\n",
    "Here 2,3 and 4 are the lengths of the words in the list."
   ]
  },
  {
   "cell_type": "code",
   "execution_count": 4,
   "metadata": {},
   "outputs": [
    {
     "name": "stdout",
     "output_type": "stream",
     "text": [
      "enter word 'hi'\n",
      "want to enter more y/n? 'y'\n",
      "enter word 'hello'\n",
      "want to enter more y/n? 'y'\n",
      "enter word 'listen'\n",
      "want to enter more y/n? 'n'\n",
      "[2, 5, 6]\n"
     ]
    }
   ],
   "source": [
    "def length(words):\n",
    "    l=[]\n",
    "    for i in range(len(words)):\n",
    "        l.append(len(words[i]))\n",
    "    return l\n",
    "        \n",
    "word=[]\n",
    "i='y'\n",
    "while (i.lower()=='y'):\n",
    "    word.append(input('enter word '))\n",
    "    i=input('want to enter more y/n? ')\n",
    "word=length(word)\n",
    "print(word)"
   ]
  },
  {
   "cell_type": "markdown",
   "metadata": {},
   "source": [
    "Write a Python function which takes a character (i.e. a string of length 1) and returns True if it is\n",
    "a vowel, False otherwise."
   ]
  },
  {
   "cell_type": "code",
   "execution_count": 5,
   "metadata": {},
   "outputs": [
    {
     "name": "stdout",
     "output_type": "stream",
     "text": [
      "enter word 'a'\n",
      "a\n",
      "True\n"
     ]
    }
   ],
   "source": [
    "def check_vowel(words):\n",
    "    print(words)\n",
    "    l=[]\n",
    "    if (words.lower()=='i' or words.lower()=='a' or words.lower()=='e' or words.lower()=='o' or words.lower()=='u'):\n",
    "        return True\n",
    "    else:\n",
    "        return False\n",
    "        \n",
    "\n",
    "word=input('enter word ')\n",
    "    \n",
    "word=check_vowel(word)\n",
    "print(word)"
   ]
  },
  {
   "cell_type": "code",
   "execution_count": null,
   "metadata": {},
   "outputs": [],
   "source": []
  }
 ],
 "metadata": {
  "kernelspec": {
   "display_name": "Python 2",
   "language": "python",
   "name": "python2"
  },
  "language_info": {
   "codemirror_mode": {
    "name": "ipython",
    "version": 2
   },
   "file_extension": ".py",
   "mimetype": "text/x-python",
   "name": "python",
   "nbconvert_exporter": "python",
   "pygments_lexer": "ipython2",
   "version": "2.7.16"
  }
 },
 "nbformat": 4,
 "nbformat_minor": 2
}
